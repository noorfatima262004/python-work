{
 "cells": [
  {
   "cell_type": "code",
   "execution_count": 2,
   "id": "27e90a21-ec93-4528-bff6-b75df5b6bc39",
   "metadata": {},
   "outputs": [],
   "source": [
    "import numpy as np\n",
    "\n",
    "# Creation of NumPy Arrays\n",
    "# NumPy arrays can be created using various methods. Here is an example of creating 1D and 2D arrays:\n",
    "\n",
    "# Create a 1D array\n",
    "array1 = np.array([1, 2, 3, 4, 5])\n",
    "\n",
    "# Create a 2D array\n",
    "array2 = np.array([[1, 2, 3], [4, 5, 6]])"
   ]
  },
  {
   "cell_type": "code",
   "execution_count": 6,
   "id": "97d9512d-02c1-471f-8791-ada7066eedd9",
   "metadata": {},
   "outputs": [
    {
     "name": "stdout",
     "output_type": "stream",
     "text": [
      "[1 2 3 4 5]\n"
     ]
    }
   ],
   "source": [
    "print(array1)"
   ]
  },
  {
   "cell_type": "code",
   "execution_count": 8,
   "id": "7a99009b-5924-48aa-be80-2b0485062f89",
   "metadata": {},
   "outputs": [
    {
     "name": "stdout",
     "output_type": "stream",
     "text": [
      "[[1 2 3]\n",
      " [4 5 6]]\n"
     ]
    }
   ],
   "source": [
    "print(array2)"
   ]
  },
  {
   "cell_type": "code",
   "execution_count": 10,
   "id": "90f4f44a-e71d-442f-adeb-3a87b4245cb2",
   "metadata": {},
   "outputs": [
    {
     "name": "stdout",
     "output_type": "stream",
     "text": [
      "34\n",
      "15\n"
     ]
    }
   ],
   "source": [
    "# Create a 1D array\n",
    "\n",
    "\n",
    "\n",
    "A1 = np.array([11, 22, 34, 12, 15])\n",
    "\n",
    "# Select the ith element of A1\n",
    "print(A1[2])  # Output: 34\n",
    "\n",
    "# Negative indexing\n",
    "print(A1[-1])  # Output: 15"
   ]
  },
  {
   "cell_type": "code",
   "execution_count": 20,
   "id": "d5f7d388-2af2-453c-ad1b-8e3dc36b2a50",
   "metadata": {},
   "outputs": [
    {
     "name": "stdout",
     "output_type": "stream",
     "text": [
      "[0 1 3]\n",
      "4\n"
     ]
    }
   ],
   "source": [
    "\n",
    "#2D Array Indexing\n",
    "\n",
    "#For 2D arrays, you need to specify both the row and column indices\n",
    "# Create a 2D array\n",
    "\n",
    "\n",
    "A2 = np.array([[0, 1, 3], [4, 6, 7]])\n",
    "\n",
    "# Select the first row of A2\n",
    "print(A2[0,:])  # Output: [0 1 3]\n",
    "\n",
    "# Select the first element of the first row\n",
    "print(A2[1, 0])  # Output: 4"
   ]
  },
  {
   "cell_type": "code",
   "execution_count": 22,
   "id": "f60bc90f-98bd-4bd3-878a-768905419dbc",
   "metadata": {},
   "outputs": [
    {
     "name": "stdout",
     "output_type": "stream",
     "text": [
      "[11 12 13 14 15]\n",
      "[12 13 14]\n",
      "[11 12 13 14]\n"
     ]
    }
   ],
   "source": [
    "\n",
    "# Slicing NumPy Arrays\n",
    "# Slicing allows you to extract parts of the array using the start:stop:step notation.\n",
    "\n",
    "# Create a 1D array\n",
    "A = np.array([11, 12, 13, 14, 15])\n",
    "\n",
    "# Select all elements\n",
    "print(A[:])  # Output: [11 12 13 14 15]\n",
    "\n",
    "# Select elements from index 1 to 3 (exclusive)\n",
    "print(A[1:4])  # Output: [12 13 14]\n",
    "\n",
    "# Select all elements except the last one\n",
    "print(A[:-1])  # Output: [11 12 13 14]"
   ]
  },
  {
   "cell_type": "code",
   "execution_count": 28,
   "id": "2bc6826c-744a-45b1-ae36-41cd95fef7b2",
   "metadata": {},
   "outputs": [
    {
     "name": "stdout",
     "output_type": "stream",
     "text": [
      "[['Beth']\n",
      " ['78']\n",
      " ['82']]\n",
      "[['Beth' 'Cathy']\n",
      " ['78' '90']\n",
      " ['82' '79']]\n",
      "[['Alice' 'Beth' 'Cathy' 'Dorothy']\n",
      " ['65' '78' '90' '81']]\n",
      "['71' '82' '79' '92']\n"
     ]
    }
   ],
   "source": [
    "# 2D Array Slicing\n",
    "# For 2D arrays, you specify slices for both rows and columns.\n",
    "\n",
    "# Create a 2D array\n",
    "students = np.array([['Alice', 'Beth', 'Cathy', 'Dorothy'],\n",
    "                     [65, 78, 90, 81],\n",
    "                     [71, 82, 79, 92]])\n",
    "\n",
    "# All rows and column 1\n",
    "print(students[:, 1:2])  # Output: [['Beth'], [78], [82]]\n",
    "\n",
    "# All rows, columns 1 and 2\n",
    "print(students[:, 1:3])  # Output: [['Beth', 'Cathy'], [78, 90], [82, 79]]\n",
    "\n",
    "# All columns, rows 0 and 1\n",
    "print(students[0:2, :])  # Output: [['Alice', 'Beth', 'Cathy', 'Dorothy'], [65, 78, 90, 81]]\n",
    "\n",
    "# The last row\n",
    "print(students[-1, :])  # Output: [71 82 79 92]"
   ]
  },
  {
   "cell_type": "code",
   "execution_count": 34,
   "id": "fd24cb29-2bae-4444-98ed-3656eba2a08d",
   "metadata": {},
   "outputs": [
    {
     "name": "stdout",
     "output_type": "stream",
     "text": [
      "[5 6]\n",
      "[2 4]\n",
      "['Alice' 'Beth' 'Cathy' 'Dorothy']\n"
     ]
    }
   ],
   "source": [
    "# Advanced Slicing and Indexing\n",
    "# Negative Slicing: You can use negative indices to start counting from the end of the array.\n",
    "# is ki mujy sae smjh nhi i \n",
    "# i dont know how is it working \n",
    "\n",
    "arr = np.array([1, 2, 3, 4, 5, 6, 7])\n",
    "print(arr[-3:-1])  # Output: [5 6]\n",
    "\n",
    "arr = np.array([1, 2, 3, 4, 5, 6, 7])\n",
    "print(arr[1:5:2])  # Output: [2 4]\n",
    "\n",
    "students = np.array([['Alice', 'Beth', 'Cathy', 'Dorothy'],\n",
    "                     [65, 78, 90, 81],\n",
    "                     [71, 82, 79, 92]])\n",
    "print(students[0, ...])  # Output: ['Alice' 'Beth' 'Cathy' 'Dorothy']\n"
   ]
  },
  {
   "cell_type": "code",
   "execution_count": 30,
   "id": "4fd63070-1b4f-4caf-856f-46f592cc3137",
   "metadata": {},
   "outputs": [
    {
     "name": "stdout",
     "output_type": "stream",
     "text": [
      "(2, 3)\n"
     ]
    }
   ],
   "source": [
    "#Inspection of a NumPy Array\n",
    "#Inspecting a NumPy array involves understanding its structure, dimensions, and content. \n",
    "#Here are some key methods and attributes to inspect a NumPy array:\n",
    "arr = np.array([[1, 2, 3], [4, 5, 6]])\n",
    "print(arr.shape)  # Output: (2, 3)"
   ]
  },
  {
   "cell_type": "code",
   "execution_count": 32,
   "id": "dcaf002f-ecec-4f58-987a-63ad7a2926a9",
   "metadata": {},
   "outputs": [
    {
     "name": "stdout",
     "output_type": "stream",
     "text": [
      "2\n"
     ]
    }
   ],
   "source": [
    "# ndim Attribute: Returns the number of dimensions in the array.\n",
    "print(arr.ndim)  # Output: 2"
   ]
  },
  {
   "cell_type": "code",
   "execution_count": 34,
   "id": "76403669-7b49-459c-8dfc-aa46113c9319",
   "metadata": {},
   "outputs": [
    {
     "name": "stdout",
     "output_type": "stream",
     "text": [
      "6\n"
     ]
    }
   ],
   "source": [
    "# Size and Number of Elements\n",
    "# size Attribute: Returns the total number of elements in the array.\n",
    "print(arr.size)  # Output: 6\n"
   ]
  },
  {
   "cell_type": "code",
   "execution_count": 36,
   "id": "65f430d7-d16b-4d71-bc04-4842499354ff",
   "metadata": {},
   "outputs": [
    {
     "name": "stdout",
     "output_type": "stream",
     "text": [
      "int64\n"
     ]
    }
   ],
   "source": [
    "# Data Type\n",
    "#dtype Attribute: Returns the data type of the elements in the array.\n",
    "print(arr.dtype)  # Output: int64\n"
   ]
  },
  {
   "cell_type": "code",
   "execution_count": 38,
   "id": "fef87df8-5012-4cdc-a2e9-ab8097d90886",
   "metadata": {},
   "outputs": [
    {
     "name": "stdout",
     "output_type": "stream",
     "text": [
      "Shape: (2, 3)\n",
      "Dimensions: 2\n",
      "Size: 6\n",
      "Data Type: int64\n",
      "Array Content:\n",
      " [[1 2 3]\n",
      " [4 5 6]]\n",
      "Mean: 3.5\n",
      "Median: 3.5\n",
      "Standard Deviation: 1.707825127659933\n",
      "Non-zero indices: (array([1, 3]),)\n",
      "Unique elements: [1 2 3 4 5]\n"
     ]
    }
   ],
   "source": [
    "# Create a sample array\n",
    "arr = np.array([[1, 2, 3], [4, 5, 6]])\n",
    "\n",
    "# Inspect the array\n",
    "print(\"Shape:\", arr.shape)  # Output: (2, 3)\n",
    "print(\"Dimensions:\", arr.ndim)  # Output: 2\n",
    "print(\"Size:\", arr.size)  # Output: 6\n",
    "print(\"Data Type:\", arr.dtype)  # Output: int64\n",
    "print(\"Array Content:\\n\", arr)\n",
    "# Output:\n",
    "# [[1 2 3]\n",
    "#  [4 5 6]]\n",
    "\n",
    "# Statistical summaries\n",
    "print(\"Mean:\", np.mean(arr))  # Output: 3.5\n",
    "print(\"Median:\", np.median(arr))  # Output: 3.5\n",
    "print(\"Standard Deviation:\", np.std(arr))  # Output: 1.7078251276599\n",
    "\n",
    "# Non-zero elements\n",
    "arr_nonzero = np.array([0, 1, 0, 3, 0])\n",
    "print(\"Non-zero indices:\", np.nonzero(arr_nonzero))  # Output: (array([1, 3], dtype=int64),)\n",
    "\n",
    "# Unique elements\n",
    "arr_unique = np.array([1, 2, 2, 3, 4, 4, 5])\n",
    "print(\"Unique elements:\", np.unique(arr_unique))  # Output: [1 2 3 4 5]"
   ]
  },
  {
   "cell_type": "code",
   "execution_count": 40,
   "id": "ffa08ff6-8749-4556-a3bb-1f927d5c4339",
   "metadata": {},
   "outputs": [
    {
     "name": "stdout",
     "output_type": "stream",
     "text": [
      "[60 71 82 93]\n"
     ]
    }
   ],
   "source": [
    "# mathematical operation and function on arry\n",
    "\n",
    "# Create the arrays\n",
    "a_arr = np.array([60, 70, 80, 90])\n",
    "b_arr = np.arange(4)\n",
    "\n",
    "# Add the arrays\n",
    "c_arr = a_arr + b_arr\n",
    "\n",
    "# Print the result\n",
    "print(c_arr)"
   ]
  },
  {
   "cell_type": "code",
   "execution_count": 42,
   "id": "76e9aeab-0709-4846-8d35-c94744efef5f",
   "metadata": {},
   "outputs": [
    {
     "name": "stdout",
     "output_type": "stream",
     "text": [
      "[60 71 82 93]\n"
     ]
    }
   ],
   "source": [
    "# Create the arrays\n",
    "a_arr = np.array([60, 70, 80, 90])\n",
    "b_arr = np.arange(4)\n",
    "\n",
    "# Add the arrays\n",
    "c_arr = a_arr + b_arr\n",
    "\n",
    "# Print the result\n",
    "print(c_arr)"
   ]
  },
  {
   "cell_type": "code",
   "execution_count": 44,
   "id": "d8467dce-4c9b-4cd2-8aaf-483df37af616",
   "metadata": {},
   "outputs": [
    {
     "name": "stdout",
     "output_type": "stream",
     "text": [
      "[60 69 78 87]\n"
     ]
    }
   ],
   "source": [
    "# Create the arrays\n",
    "d_arr = np.array([60, 70, 80, 90])\n",
    "e_arr = np.arange(4)\n",
    "\n",
    "# Subtract the arrays\n",
    "f_arr = d_arr - e_arr\n",
    "\n",
    "# Print the result\n",
    "print(f_arr)"
   ]
  },
  {
   "cell_type": "code",
   "execution_count": 46,
   "id": "b1b0723e-ad62-4f1c-8e0d-b433c573ecb6",
   "metadata": {},
   "outputs": [
    {
     "name": "stdout",
     "output_type": "stream",
     "text": [
      "[60 71 82 93]\n"
     ]
    }
   ],
   "source": [
    "\n",
    "# Create the arrays\n",
    "a_arr = np.array([60, 70, 80, 90])\n",
    "b_arr = np.arange(4)\n",
    "\n",
    "# Add the arrays using np.add()\n",
    "c_arr = np.add(a_arr, b_arr)\n",
    "\n",
    "# Print the result\n",
    "print(c_arr)"
   ]
  },
  {
   "cell_type": "code",
   "execution_count": 48,
   "id": "8a0a6ce3-c37a-4c6d-9322-1beb24ba3473",
   "metadata": {},
   "outputs": [
    {
     "name": "stdout",
     "output_type": "stream",
     "text": [
      "[60 69 78 87]\n"
     ]
    }
   ],
   "source": [
    "# Create the arrays\n",
    "d_arr = np.array([60, 70, 80, 90])\n",
    "e_arr = np.arange(4)\n",
    "\n",
    "# Subtract the arrays using np.subtract()\n",
    "f_arr = np.subtract(d_arr, e_arr)\n",
    "\n",
    "# Print the result\n",
    "print(f_arr)"
   ]
  },
  {
   "cell_type": "code",
   "execution_count": 50,
   "id": "c1270483-7008-4545-afee-d7754573d5de",
   "metadata": {},
   "outputs": [
    {
     "name": "stdout",
     "output_type": "stream",
     "text": [
      "[2 4 6 8]\n",
      "[0.5 1.  1.5 2. ]\n",
      "[ 1  4  9 16]\n",
      "[1 0 1 0]\n"
     ]
    }
   ],
   "source": [
    "a = np.array([1, 2, 3, 4])\n",
    "b = np.array([2, 2, 2, 2])\n",
    "\n",
    "# Multiplication\n",
    "mul_arr = a * b  # or np.multiply(a, b)\n",
    "print(mul_arr)  # Output: [2 4 6 8]\n",
    "\n",
    "# Division\n",
    "div_arr = a / b  # or np.divide(a, b)\n",
    "print(div_arr)  # Output: [0.5 1. 1.5 2. ]\n",
    "\n",
    "# Exponentiation\n",
    "exp_arr = a ** b  # or np.power(a, b)\n",
    "print(exp_arr)  # Output: [1 4 9 16]\n",
    "\n",
    "# Modulus\n",
    "mod_arr = a % b  # or np.mod(a, b)\n",
    "print(mod_arr)  # O"
   ]
  },
  {
   "cell_type": "code",
   "execution_count": 52,
   "id": "2964ddf9-35b6-4f22-99dc-a6c526f7c02a",
   "metadata": {},
   "outputs": [
    {
     "name": "stdout",
     "output_type": "stream",
     "text": [
      "[[1 2 3]\n",
      " [4 5 6]]\n"
     ]
    }
   ],
   "source": [
    "\n",
    "# Combining and Splitting Arrays\n",
    "\n",
    "\n",
    "# 1. Stacking Arrays\n",
    "#You can use the np.stack(), np.vstack(), np.hstack(), and np.dstack() functions to combine arrays.\n",
    "# Vertical Stacking (np.vstack()):\n",
    "\n",
    "\n",
    "a = np.array([1, 2, 3])\n",
    "b = np.array([4, 5, 6])\n",
    "c = np.vstack((a, b))\n",
    "print(c)\n",
    "# Output:\n",
    "# [[1 2 3]\n",
    "#  [4 5 6]]"
   ]
  },
  {
   "cell_type": "code",
   "execution_count": 54,
   "id": "d319e7bd-0d18-4849-b1ea-79b48ad74ac3",
   "metadata": {},
   "outputs": [
    {
     "name": "stdout",
     "output_type": "stream",
     "text": [
      "[1 2 3 4 5 6]\n"
     ]
    }
   ],
   "source": [
    "# Horizontal Stacking (np.hstack()):\n",
    "\n",
    "\n",
    "a = np.array([1, 2, 3])\n",
    "b = np.array([4, 5, 6])\n",
    "c = np.hstack((a, b))\n",
    "print(c)\n",
    "# Output: [1 2 3 4 "
   ]
  },
  {
   "cell_type": "code",
   "execution_count": 56,
   "id": "92deeddf-2f47-4520-a9ba-74b3a1f36e38",
   "metadata": {},
   "outputs": [
    {
     "name": "stdout",
     "output_type": "stream",
     "text": [
      "[[[1 4]\n",
      "  [2 5]\n",
      "  [3 6]]]\n"
     ]
    }
   ],
   "source": [
    "# Depth Stacking (np.dstack()):\n",
    "\n",
    "\n",
    "a = np.array([1, 2, 3])\n",
    "b = np.array([4, 5, 6])\n",
    "c = np.dstack((a, b))\n",
    "print(c)\n",
    "# Output:\n",
    "# [[[1 4]\n",
    "#   [2 5]\n",
    "#   [3 6]]]"
   ]
  },
  {
   "cell_type": "code",
   "execution_count": 58,
   "id": "068e5734-e86b-4956-84e6-ed88ea1c9908",
   "metadata": {},
   "outputs": [
    {
     "name": "stdout",
     "output_type": "stream",
     "text": [
      "[[1 2 3]\n",
      " [4 5 6]]\n",
      "[[1 4]\n",
      " [2 5]\n",
      " [3 6]]\n",
      "[[1 4]\n",
      " [2 5]\n",
      " [3 6]]\n"
     ]
    }
   ],
   "source": [
    "#General Stacking (np.stack()):\n",
    "\n",
    "\n",
    "a = np.array([1, 2, 3])\n",
    "b = np.array([4, 5, 6])\n",
    "c = np.stack((a, b), axis=0)  # Vertical stacking\n",
    "print(c)\n",
    "# Output:\n",
    "# [[1 2 3]\n",
    "#  [4 5 6]]\n",
    "\n",
    "d = np.stack((a, b), axis=1)  # Horizontal stacking\n",
    "print(d)\n",
    "# Output:\n",
    "# [[1 4]\n",
    "#  [2 5]\n",
    "#  [3 6]]\n",
    "\n",
    "e = np.stack((a, b), axis=-1)  # Depth stacking\n",
    "print(e)\n",
    "# Output:\n",
    "# [[[1 4]\n",
    "#   [2 5]\n",
    "#   [3 6]]]"
   ]
  },
  {
   "cell_type": "code",
   "execution_count": 60,
   "id": "31334413-b08a-49d8-b23b-1a67ff273295",
   "metadata": {},
   "outputs": [
    {
     "name": "stdout",
     "output_type": "stream",
     "text": [
      "[1 2 3 4 5 6]\n",
      "[[1 2]\n",
      " [3 4]\n",
      " [5 6]\n",
      " [7 8]]\n",
      "[[1 2 5 6]\n",
      " [3 4 7 8]]\n"
     ]
    }
   ],
   "source": [
    "\n",
    "# 2. Concatenating Arrays\n",
    "\n",
    "\n",
    "#You can use the np.concatenate() function to concatenate arrays along a specified axis.\n",
    "\n",
    "\n",
    "a = np.array([1, 2, 3])\n",
    "b = np.array([4, 5, 6])\n",
    "c = np.concatenate((a, b))\n",
    "print(c)\n",
    "# Output: [1 2 3 4 5 6]\n",
    "\n",
    "# Concatenating along axis 0 (vertical)\n",
    "a = np.array([[1, 2], [3, 4]])\n",
    "b = np.array([[5, 6], [7, 8]])\n",
    "c = np.concatenate((a, b), axis=0)\n",
    "print(c)\n",
    "# Output:\n",
    "# [[1 2]\n",
    "#  [3 4]\n",
    "#  [5 6]\n",
    "#  [7 8]]\n",
    "\n",
    "# Concatenating along axis 1 (horizontal)\n",
    "a = np.array([[1, 2], [3, 4]])\n",
    "b = np.array([[5, 6], [7, 8]])\n",
    "c = np.concatenate((a, b), axis=1)\n",
    "print(c)\n",
    "# Output:\n",
    "# [[1 2 5 6]\n",
    "#  [3 4 7 8]]"
   ]
  },
  {
   "cell_type": "code",
   "execution_count": 68,
   "id": "489d209a-c81e-4266-a3ff-e768b772093d",
   "metadata": {},
   "outputs": [
    {
     "name": "stdout",
     "output_type": "stream",
     "text": [
      "[array([1, 2]), array([3, 4]), array([5, 6])]\n"
     ]
    }
   ],
   "source": [
    "\n",
    "\n",
    "# 1. Splitting Along an Axis\n",
    "# You can use the np.split(), np.hsplit(), np.vsplit(), and np.dsplit() functions to split arrays.\n",
    "# Splitting Along a Specified Axis (np.split()):\n",
    "\n",
    "\n",
    "a = np.array([1, 2, 3, 4, 5, 6])\n",
    "b = np.split(a, 3)\n",
    "print(b)\n",
    "# Output: [array([1, 2]), array([3, 4]), array([5, 6])]\n",
    "\n"
   ]
  },
  {
   "cell_type": "code",
   "execution_count": 70,
   "id": "326695f1-5c19-4be3-9bff-70ee4e0a47e0",
   "metadata": {},
   "outputs": [
    {
     "name": "stdout",
     "output_type": "stream",
     "text": [
      "[array([[1],\n",
      "       [4]]), array([[2],\n",
      "       [5]]), array([[3],\n",
      "       [6]])]\n",
      "[array([[1, 2, 3]]), array([[4, 5, 6]])]\n",
      "[array([[[1],\n",
      "        [3]],\n",
      "\n",
      "       [[5],\n",
      "        [7]]]), array([[[2],\n",
      "        [4]],\n",
      "\n",
      "       [[6],\n",
      "        [8]]])]\n"
     ]
    }
   ],
   "source": [
    "# Horizontal Splitting (np.hsplit()):\n",
    "\n",
    "\n",
    "a = np.array([[1, 2, 3], [4, 5, 6]])\n",
    "b = np.hsplit(a, 3)\n",
    "print(b)\n",
    "# Output: [array([[1],\n",
    "#                  [4]]),\n",
    "#          array([[2],\n",
    "#                  [5]]),\n",
    "#          array([[3],\n",
    "#                  [6]])]\n",
    "\n",
    "# Vertical Splitting (np.vsplit()):\n",
    "\n",
    "\n",
    "a = np.array([[1, 2, 3], [4, 5, 6]])\n",
    "b = np.vsplit(a, 2)\n",
    "print(b)\n",
    "# Output: [array([[1, 2, 3]]),\n",
    "#          array([[4, 5, 6]])]\n",
    "\n",
    "# Depth Splitting (np.dsplit()):\n",
    "\n",
    "\n",
    "a = np.array([[[1, 2], [3, 4]], [[5, 6], [7, 8]]])\n",
    "b = np.dsplit(a, 2)\n",
    "print(b)\n",
    "# Output: [array([[[1],\n",
    "#                   [3]],\n",
    "#                  [[5],\n",
    "#                   [7]]]),\n",
    "#          array([[[2],\n",
    "#                   [4]],\n",
    "#                  [[6],\n",
    "#                   [8]]])]\n"
   ]
  },
  {
   "cell_type": "code",
   "execution_count": 72,
   "id": "5b448426-9cda-4da9-8dcd-66813c15c816",
   "metadata": {},
   "outputs": [
    {
     "name": "stdout",
     "output_type": "stream",
     "text": [
      "[[1 2 3]\n",
      " [4 5 6]]\n",
      "[[1 2]\n",
      " [3 4]\n",
      " [5 6]]\n"
     ]
    }
   ],
   "source": [
    "\n",
    "# 2. Array Reshaping\n",
    "# You can use the np.reshape() function to reshape an array without changing its data.\n",
    "\n",
    "\n",
    "a = np.array([1, 2, 3, 4, 5, 6])\n",
    "b = np.reshape(a, (2, 3))\n",
    "print(b)\n",
    "# Output:\n",
    "# [[1 2 3]\n",
    "#  [4 5 6]]\n",
    "\n",
    "c = np.reshape(a, (3, 2))\n",
    "print(c)\n",
    "# Output:\n",
    "# [[1 2]\n",
    "#  [3 4]\n",
    "#  [5 6]]\n",
    "\n",
    "\n"
   ]
  },
  {
   "cell_type": "code",
   "execution_count": 74,
   "id": "3769f72b-36cc-49b6-8689-268f93f57f6c",
   "metadata": {},
   "outputs": [
    {
     "name": "stdout",
     "output_type": "stream",
     "text": [
      "Vertical Stacking:\n",
      " [[1 2 3]\n",
      " [4 5 6]]\n",
      "Horizontal Stacking:\n",
      " [1 2 3 4 5 6]\n",
      "Depth Stacking:\n",
      " [[[1 4]\n",
      "  [2 5]\n",
      "  [3 6]]]\n",
      "Concatenation:\n",
      " [1 2 3 4 5 6]\n",
      "Splitting Along Axis:\n",
      " [array([1, 2]), array([3, 4]), array([5, 6])]\n",
      "Horizontal Splitting:\n",
      " [array([[1],\n",
      "       [4]]), array([[2],\n",
      "       [5]]), array([[3],\n",
      "       [6]])]\n",
      "Vertical Splitting:\n",
      " [array([[1, 2, 3]]), array([[4, 5, 6]])]\n",
      "Depth Splitting:\n",
      " [array([[[1],\n",
      "        [3]],\n",
      "\n",
      "       [[5],\n",
      "        [7]]]), array([[[2],\n",
      "        [4]],\n",
      "\n",
      "       [[6],\n",
      "        [8]]])]\n",
      "Reshaping to (2, 3):\n",
      " [[1 2 3]\n",
      " [4 5 6]]\n",
      "Reshaping to (3, 2):\n",
      " [[1 2]\n",
      " [3 4]\n",
      " [5 6]]\n"
     ]
    }
   ],
   "source": [
    "# Combining arrays\n",
    "a = np.array([1, 2, 3])\n",
    "b = np.array([4, 5, 6])\n",
    "\n",
    "# Vertical stacking\n",
    "c = np.vstack((a, b))\n",
    "print(\"Vertical Stacking:\\n\", c)\n",
    "\n",
    "# Horizontal stacking\n",
    "d = np.hstack((a, b))\n",
    "print(\"Horizontal Stacking:\\n\", d)\n",
    "\n",
    "# Depth stacking\n",
    "e = np.dstack((a, b))\n",
    "print(\"Depth Stacking:\\n\", e)\n",
    "\n",
    "# Concatenating arrays\n",
    "f = np.concatenate((a, b))\n",
    "print(\"Concatenation:\\n\", f)\n",
    "\n",
    "# Splitting arrays\n",
    "g = np.array([1, 2, 3, 4, 5, 6])\n",
    "h = np.split(g, 3)\n",
    "print(\"Splitting Along Axis:\\n\", h)\n",
    "\n",
    "i = np.array([[1, 2, 3], [4, 5, 6]])\n",
    "j = np.hsplit(i, 3)\n",
    "print(\"Horizontal Splitting:\\n\", j)\n",
    "\n",
    "k = np.array([[1, 2, 3], [4, 5, 6]])\n",
    "l = np.vsplit(k, 2)\n",
    "print(\"Vertical Splitting:\\n\", l)\n",
    "\n",
    "m = np.array([[[1, 2], [3, 4]], [[5, 6], [7, 8]]])\n",
    "n = np.dsplit(m, 2)\n",
    "print(\"Depth Splitting:\\n\", n)\n",
    "\n",
    "# Reshaping arrays\n",
    "o = np.array([1, 2, 3, 4, 5, 6])\n",
    "p = np.reshape(o, (2, 3))\n",
    "print(\"Reshaping to (2, 3):\\n\", p)\n",
    "\n",
    "q = np.reshape(o, (3, 2))\n",
    "print(\"Reshaping to (3, 2):\\n\", q)"
   ]
  },
  {
   "cell_type": "code",
   "execution_count": 78,
   "id": "e9312c4b-df6c-4c9e-b4c5-636ac9ffcb3b",
   "metadata": {},
   "outputs": [
    {
     "name": "stdout",
     "output_type": "stream",
     "text": [
      "[1 2 3 4]\n",
      "[1 2 3 4 5 6]\n",
      "[1 4 2 3]\n",
      "[1 4 5 2 3]\n",
      "[1 2 3 4 5 6]\n"
     ]
    }
   ],
   "source": [
    "# Adding and Removing Elements in the Arrays\n",
    "\n",
    "# 1. Appending Elements\n",
    "# You can use the np.append() function to add elements to an array.\n",
    "\n",
    "\n",
    "a = np.array([1, 2, 3])\n",
    "b = np.append(a, 4)\n",
    "print(b)  # Output: [1 2 3 4]\n",
    "\n",
    "# Appending multiple elements\n",
    "c = np.append(a, [4, 5, 6])\n",
    "print(c)  # Output: [1 2 3 4 5 6]\n",
    "\n",
    "# 2. Inserting Elements\n",
    "# You can use the np.insert() function to insert elements at a specified position.\n",
    "\n",
    "\n",
    "a = np.array([1, 2, 3])\n",
    "b = np.insert(a, 1, 4)\n",
    "print(b)  # Output: [1 4 2 3]\n",
    "\n",
    "# Inserting multiple elements\n",
    "c = np.insert(a, 1, [4, 5])\n",
    "print(c)  # Output: [1 4 5 2 3]\n",
    "\n",
    "# 3. Concatenating Arrays\n",
    "# You can use the np.concatenate() function to concatenate arrays.\n",
    "\n",
    "\n",
    "a = np.array([1, 2, 3])\n",
    "b = np.array([4, 5, 6])\n",
    "c = np.concatenate((a, b))\n",
    "print(c)  # Output: [1 2 3 4 5 6]\n"
   ]
  },
  {
   "cell_type": "code",
   "execution_count": 80,
   "id": "06305b5d-0fc7-4f65-a0cd-9c4c057f634f",
   "metadata": {},
   "outputs": [
    {
     "name": "stdout",
     "output_type": "stream",
     "text": [
      "[1 2 4 5]\n",
      "[1 3 5]\n",
      "[1 2 4 5]\n"
     ]
    }
   ],
   "source": [
    "\n",
    "# Removing Elements\n",
    "\n",
    "# 1. Deleting Elements\n",
    "# You can use the np.delete() function to delete elements from an array.\n",
    "\n",
    "\n",
    "a = np.array([1, 2, 3, 4, 5])\n",
    "b = np.delete(a, 2)\n",
    "print(b)  # Output: [1 2 4 5]\n",
    "\n",
    "# Deleting multiple elements\n",
    "c = np.delete(a, [1, 3])\n",
    "print(c)  # Output: [1 3 5]\n",
    "\n",
    "# 2. Slicing to Remove Elements\n",
    "# You can use slicing to create a new array without certain elements.\n",
    "\n",
    "\n",
    "a = np.array([1, 2, 3, 4, 5])\n",
    "b = np.concatenate((a[:2], a[3:]))\n",
    "print(b)  # Output: [1 2 4 5]\n",
    "\n",
    "\n"
   ]
  },
  {
   "cell_type": "code",
   "execution_count": 82,
   "id": "1efa0872-ab27-47be-9f6b-49c39841ccac",
   "metadata": {},
   "outputs": [
    {
     "name": "stdout",
     "output_type": "stream",
     "text": [
      "Appending 4 to a:\n",
      " [1 2 3 4]\n",
      "Appending [4, 5, 6] to a:\n",
      " [1 2 3 4 5 6]\n",
      "Inserting 4 at position 1 in a:\n",
      " [1 4 2 3]\n",
      "Inserting [4, 5] at position 1 in a:\n",
      " [1 4 5 2 3]\n",
      "Concatenating [4, 5, 6] to a:\n",
      " [1 2 3 4 5 6]\n",
      "Deleting element at position 1 from a:\n",
      " [1 3]\n",
      "Deleting elements at positions 1 and 2 from a:\n",
      " [1]\n",
      "Removing element at position 1 from a using slicing:\n",
      " [1 3]\n",
      "Original array a:\n",
      " [1 2 3]\n",
      "Array after appending 4:\n",
      " [1 2 3 4]\n",
      "Array after inserting 4 at position 1:\n",
      " [1 4 2 3]\n",
      "Array after deleting element at position 1:\n",
      " [1 3]\n"
     ]
    }
   ],
   "source": [
    "\n",
    "# Adding elements\n",
    "a = np.array([1, 2, 3])\n",
    "b = np.append(a, 4)\n",
    "print(\"Appending 4 to a:\\n\", b)\n",
    "\n",
    "c = np.append(a, [4, 5, 6])\n",
    "print(\"Appending [4, 5, 6] to a:\\n\", c)\n",
    "\n",
    "d = np.insert(a, 1, 4)\n",
    "print(\"Inserting 4 at position 1 in a:\\n\", d)\n",
    "\n",
    "e = np.insert(a, 1, [4, 5])\n",
    "print(\"Inserting [4, 5] at position 1 in a:\\n\", e)\n",
    "\n",
    "f = np.concatenate((a, [4, 5, 6]))\n",
    "print(\"Concatenating [4, 5, 6] to a:\\n\", f)\n",
    "\n",
    "# Removing elements\n",
    "g = np.delete(a, 1)\n",
    "print(\"Deleting element at position 1 from a:\\n\", g)\n",
    "\n",
    "h = np.delete(a, [1, 2])\n",
    "print(\"Deleting elements at positions 1 and 2 from a:\\n\", h)\n",
    "\n",
    "i = np.concatenate((a[:1], a[2:]))\n",
    "print(\"Removing element at position 1 from a using slicing:\\n\", i)\n",
    "\n",
    "# Summary of operations\n",
    "print(\"Original array a:\\n\", a)\n",
    "print(\"Array after appending 4:\\n\", b)\n",
    "print(\"Array after inserting 4 at position 1:\\n\", d)\n",
    "print(\"Array after deleting element at position 1:\\n\", g)"
   ]
  },
  {
   "cell_type": "code",
   "execution_count": 84,
   "id": "3567ae9e-9968-46da-8a0b-5a0f3760a481",
   "metadata": {},
   "outputs": [
    {
     "name": "stdout",
     "output_type": "stream",
     "text": [
      "(array([3, 4]),)\n",
      "[3]\n"
     ]
    }
   ],
   "source": [
    "# Search, Sort, and Filter Arrays\n",
    "\n",
    "# Searching Arrays\n",
    "\n",
    "# 1. Finding Indices of Elements\n",
    "# You can use the np.where() function to find the indices of elements that satisfy a condition.\n",
    "\n",
    "\n",
    "a = np.array([1, 2, 3, 4, 5])\n",
    "indices = np.where(a > 3)\n",
    "print(indices)  # Output: (array([3, 4], dtype=int64),)\n",
    "\n",
    "# 2. Finding Specific Values\n",
    "# You can use the np.where() function or simple indexing to find specific values.\n",
    "\n",
    "\n",
    "a = np.array([1, 2, 3, 4, 5])\n",
    "indices = np.where(a == 3)\n",
    "print(a[indices])  # Output: [3]\n"
   ]
  },
  {
   "cell_type": "code",
   "execution_count": 86,
   "id": "d148be76-fac2-4db2-aaeb-3f26a5d07bf0",
   "metadata": {},
   "outputs": [
    {
     "name": "stdout",
     "output_type": "stream",
     "text": [
      "[1 2 3 4 5]\n",
      "[[1 3 4]\n",
      " [2 5 6]]\n"
     ]
    }
   ],
   "source": [
    "\n",
    "# Sorting Arrays\n",
    "\n",
    "# 1. Sorting Arrays\n",
    "# You can use the np.sort() function to sort arrays.\n",
    "\n",
    "a = np.array([3, 1, 4, 2, 5])\n",
    "sorted_a = np.sort(a)\n",
    "print(sorted_a)  # Output: [1 2 3 4 5]\n",
    "\n",
    "# 2. Sorting Along a Specific Axis\n",
    "# For multi-dimensional arrays, you can specify the axis along which to sort.\n",
    "\n",
    "\n",
    "a = np.array([[3, 1, 4], [2, 5, 6]])\n",
    "sorted_a = np.sort(a, axis=1)\n",
    "print(sorted_a)\n",
    "# Output:\n",
    "# [[1 3 4]\n",
    "#  [2 5 6]]\n"
   ]
  },
  {
   "cell_type": "code",
   "execution_count": 88,
   "id": "d28cb619-0cfc-43ac-8e9b-8e829c991d77",
   "metadata": {},
   "outputs": [
    {
     "name": "stdout",
     "output_type": "stream",
     "text": [
      "[4 5]\n",
      "[0 0 0 4 5]\n"
     ]
    }
   ],
   "source": [
    "\n",
    "# Filtering Arrays\n",
    "\n",
    "# 1. Boolean Indexing\n",
    "# You can use boolean indexing to filter arrays based on conditions.\n",
    "\n",
    "\n",
    "a = np.array([1, 2, 3, 4, 5])\n",
    "filtered_a = a[a > 3]\n",
    "print(filtered_a)  # Output: [4 5]\n",
    "\n",
    "# 2. Using np.where() for Filtering\n",
    "# You can use np.where() to filter arrays based on conditions.\n",
    "\n",
    "a = np.array([1, 2, 3, 4, 5])\n",
    "filtered_a = np.where(a > 3, a, 0)\n",
    "print(filtered_a)  # Output: [0 0 0 4 5]\n",
    "\n",
    "\n"
   ]
  },
  {
   "cell_type": "code",
   "execution_count": 90,
   "id": "889859e4-852f-4918-8aaa-009c8e489c59",
   "metadata": {},
   "outputs": [
    {
     "name": "stdout",
     "output_type": "stream",
     "text": [
      "Indices of elements greater than 3: (array([3, 4]),)\n",
      "Value 3 in array: [3]\n",
      "Sorted array: [1 2 3 4 5]\n",
      "Sorted array along axis 1:\n",
      " [[1 3 4]\n",
      " [2 5 6]]\n",
      "Filtered array with values greater than 3: [4 5]\n",
      "Filtered array with values greater than 3 using np.where(): [0 0 0 4 5]\n",
      "Index of maximum value: 4\n",
      "Index of minimum value: 0\n",
      "Indices for inserting [2, 4, 6]: [1 2 3]\n"
     ]
    }
   ],
   "source": [
    "# Searching arrays\n",
    "a = np.array([1, 2, 3, 4, 5])\n",
    "indices = np.where(a > 3)\n",
    "print(\"Indices of elements greater than 3:\", indices)\n",
    "\n",
    "# Finding specific values\n",
    "specific_value = a[np.where(a == 3)]\n",
    "print(\"Value 3 in array:\", specific_value)\n",
    "\n",
    "# Sorting arrays\n",
    "sorted_a = np.sort(a)\n",
    "print(\"Sorted array:\", sorted_a)\n",
    "\n",
    "# Sorting along a specific axis\n",
    "b = np.array([[3, 1, 4], [2, 5, 6]])\n",
    "sorted_b = np.sort(b, axis=1)\n",
    "print(\"Sorted array along axis 1:\\n\", sorted_b)\n",
    "\n",
    "# Filtering arrays using boolean indexing\n",
    "filtered_a = a[a > 3]\n",
    "print(\"Filtered array with values greater than 3:\", filtered_a)\n",
    "\n",
    "# Filtering arrays using np.where()\n",
    "filtered_b = np.where(a > 3, a, 0)\n",
    "print(\"Filtered array with values greater than 3 using np.where():\", filtered_b)\n",
    "\n",
    "# Additional Methods\n",
    "# np.argmax() and np.argmin(): Find the indices of the maximum and minimum values.\n",
    "\n",
    "a = np.array([1, 2, 3, 4, 5])\n",
    "max_index = np.argmax(a)\n",
    "min_index = np.argmin(a)\n",
    "print(\"Index of maximum value:\", max_index)\n",
    "print(\"Index of minimum value:\", min_index)\n",
    "\n",
    "# np.searchsorted(): Find the indices where elements should be inserted to maintain sorted order.\n",
    "\n",
    "a = np.array([1, 3, 5, 7])\n",
    "indices = np.searchsorted(a, [2, 4, 6])\n",
    "print(\"Indices for inserting [2, 4, 6]:\", indices)"
   ]
  },
  {
   "cell_type": "code",
   "execution_count": null,
   "id": "53f1c38d-f5ac-449c-8dc8-636c73a532e2",
   "metadata": {},
   "outputs": [],
   "source": [
    "#  Aggregating Functions in Arrays\n",
    "\n",
    "# Available Aggregate Functions\n",
    "# NumPy provides several aggregate functions to work with arrays, including:\n",
    "# Sum: np.sum - Calculates the sum of array elements.\n",
    "\n",
    "arr = np.array([1, 2, 3, 4, 5])\n",
    "print(np.sum(arr))  # Output: 15\n",
    "\n",
    "# Mean: np.mean - Computes the arithmetic mean or average.\n",
    "\n",
    "arr = np.array([1, 2, 3, 4, 5])\n",
    "print(np.mean(arr))  # Output: 3.0\n",
    "\n",
    "# Median: np.median - Finds the median or middle value of the data.\n",
    "\n",
    "arr = np.array([1, 2, 3, 4, 5])\n",
    "print(np.median(arr))  # Output: 3.0\n",
    "\n",
    "# Minimum and Maximum: np.min and np.max - Get the minimum and maximum elements of the array.\n",
    "\n",
    "arr = np.array([1, 2, 3, 4, 5])\n",
    "print(np.min(arr))  # Output: 1\n",
    "print(np.max(arr))  # Output: 5\n",
    "\n",
    "# Standard Deviation and Variance: np.std and np.var - Calculate the standard deviation and variance.\n",
    "\n",
    "arr = np.array([1, 2, 3, 4, 5])\n",
    "print(np.std(arr))  # Output: 1.4142135623730951\n",
    "print(np.var(arr))  # Output: 2.0\n",
    "\n",
    "# Product: np.prod - Computes the product of array elements.\n",
    "\n",
    "arr = np.array([1, 2, 3, 4, 5])\n",
    "print(np.prod(arr))  # Output: 120\n",
    "\n",
    "Cumulative Sum and Product: np.cumsum and np.cumprod - Compute the cumulative sum and product.\n",
    "python\n",
    "import numpy as np\n",
    "arr = np.array([1, 2, 3, 4, 5])\n",
    "print(np.cumsum(arr))  # Output: [1 3 6 10 15]\n",
    "print(np.cumprod(arr))  # Output: [ 1  2  6 24 120]\n",
    "\n",
    "Aggregation Along Axes\n",
    "For multi-dimensional arrays, you can specify the axis along which to perform the aggregation using the axis parameter:\n",
    "Sum along a specific axis:\n",
    "python\n",
    "import numpy as np\n",
    "arr2d = np.array([[1, 2, 3], [4, 5, 6]])\n",
    "print(np.sum(arr2d, axis=0))  # Output: [5 7 9]\n",
    "print(np.sum(arr2d, axis=1))  # Output: [6 15]\n",
    "\n",
    "Mean along a specific axis:\n",
    "python\n",
    "import numpy as np\n",
    "arr2d = np.array([[1, 2, 3], [4, 5, 6]])\n",
    "print(np.mean(arr2d, axis=0))  # Output: [2.5 3.5 4.5]\n",
    "print(np.mean(arr2d, axis=1))  # Output: [2. 5.]\n",
    "\n",
    "Handling NaN Values\n",
    "NumPy also provides NaN-safe versions of these aggregate functions, which ignore missing values marked by NaN:\n",
    "Example:\n",
    "python\n",
    "import numpy as np\n",
    "arr = np.array([1, 2, np.nan, 4, 5])\n",
    "print(np.nansum(arr))  # Output: 12.0\n",
    "print(np.nanmean(arr))  # Output: 3.0"
   ]
  }
 ],
 "metadata": {
  "kernelspec": {
   "display_name": "Python 3 (ipykernel)",
   "language": "python",
   "name": "python3"
  },
  "language_info": {
   "codemirror_mode": {
    "name": "ipython",
    "version": 3
   },
   "file_extension": ".py",
   "mimetype": "text/x-python",
   "name": "python",
   "nbconvert_exporter": "python",
   "pygments_lexer": "ipython3",
   "version": "3.11.7"
  }
 },
 "nbformat": 4,
 "nbformat_minor": 5
}
